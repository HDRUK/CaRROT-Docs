{
 "cells": [
  {
   "cell_type": "markdown",
   "metadata": {},
   "source": [
    "The virtual machine contains multiple datasets in `csv` files as well as stored in a `postgresql` server."
   ]
  },
  {
   "cell_type": "markdown",
   "metadata": {},
   "source": [
    "## Connecting to Postgresql \n",
    "\n",
    "Firstly, import the python modules we want to use.."
   ]
  },
  {
   "cell_type": "code",
   "execution_count": 117,
   "metadata": {},
   "outputs": [],
   "source": [
    "import sqlalchemy as sql\n",
    "import pandas as pd\n",
    "import matplotlib.pyplot as plt"
   ]
  },
  {
   "cell_type": "markdown",
   "metadata": {},
   "source": [
    "### Install python packages\n",
    "\n",
    "If you don't have this module installed, you can open the terminal and install via:\n",
    "```\n",
    "sudo apt update\n",
    "sudo apt install python3-pip\n",
    "pip3 install sqlachemy pandas matplotlib\n",
    "```"
   ]
  },
  {
   "cell_type": "markdown",
   "metadata": {},
   "source": [
    "### Connect to a database\n",
    "Give the ip address of the VirtualBox, if you are running these from inside the VirtualBox there you want to just use :"
   ]
  },
  {
   "cell_type": "code",
   "execution_count": 118,
   "metadata": {},
   "outputs": [],
   "source": [
    "ip_address = 'localhost' #or 127.0.0.1"
   ]
  },
  {
   "cell_type": "markdown",
   "metadata": {},
   "source": [
    "If you have exposed the VirtualBox to your local network, or even the web, then specify that IP address"
   ]
  },
  {
   "cell_type": "code",
   "execution_count": 3,
   "metadata": {},
   "outputs": [],
   "source": [
    "ip_address = '192.168.0.104'"
   ]
  },
  {
   "cell_type": "markdown",
   "metadata": {},
   "source": [
    "Create an engine that connects to the postgres database that runs inside the VirtualBox"
   ]
  },
  {
   "cell_type": "code",
   "execution_count": 4,
   "metadata": {},
   "outputs": [],
   "source": [
    "ngin = sql.create_engine(f'postgresql://etldev:etldev@{ip_address}:5432/postgres')"
   ]
  },
  {
   "cell_type": "markdown",
   "metadata": {},
   "source": [
    "Establish a connection to it:"
   ]
  },
  {
   "cell_type": "code",
   "execution_count": 5,
   "metadata": {},
   "outputs": [],
   "source": [
    "cnx = ngin.connect()"
   ]
  },
  {
   "cell_type": "markdown",
   "metadata": {},
   "source": [
    "### Inspecting the databases and datasets\n",
    "\n",
    "We can use the inspector to see what databases (schemas) are available to use"
   ]
  },
  {
   "cell_type": "code",
   "execution_count": 6,
   "metadata": {},
   "outputs": [
    {
     "data": {
      "text/plain": [
       "['information_schema',\n",
       " 'omop_vocabulary',\n",
       " 'public',\n",
       " 'synthea_etl',\n",
       " 'synthea_omop',\n",
       " 'synthea_omop_results',\n",
       " 'synthea_raw']"
      ]
     },
     "execution_count": 6,
     "metadata": {},
     "output_type": "execute_result"
    }
   ],
   "source": [
    "inspector = sql.inspect(ngin)\n",
    "[schema for schema in inspector.get_schema_names() ]"
   ]
  },
  {
   "cell_type": "markdown",
   "metadata": {},
   "source": [
    "Picking the raw \"synthea\" data, we can see what datasets (tables) are contained within the `synthea_raw` database:"
   ]
  },
  {
   "cell_type": "code",
   "execution_count": 7,
   "metadata": {},
   "outputs": [
    {
     "data": {
      "text/plain": [
       "['allergies',\n",
       " 'careplans',\n",
       " 'conditions',\n",
       " 'devices',\n",
       " 'encounters',\n",
       " 'imaging_studies',\n",
       " 'immunizations',\n",
       " 'observations',\n",
       " 'organizations',\n",
       " 'patients',\n",
       " 'payer_transitions',\n",
       " 'medications',\n",
       " 'payers',\n",
       " 'procedures',\n",
       " 'providers',\n",
       " 'supplies']"
      ]
     },
     "execution_count": 7,
     "metadata": {},
     "output_type": "execute_result"
    }
   ],
   "source": [
    "inspector.get_table_names(schema='synthea_raw')"
   ]
  },
  {
   "cell_type": "markdown",
   "metadata": {},
   "source": [
    "## SQL to Pandas Dataframe\n",
    "\n",
    "Using a quick function we can load the full table into a `pandas` dataframe and print what is given by the first 'row' of the table."
   ]
  },
  {
   "cell_type": "code",
   "execution_count": 28,
   "metadata": {},
   "outputs": [
    {
     "data": {
      "text/plain": [
       "start                                      2001-07-09\n",
       "stop                                             None\n",
       "patient          0e517b72-2d1f-47f5-be31-ebf777539755\n",
       "encounter        6d0fcf84-4411-478f-b4e4-fba643da0e61\n",
       "code                                        128613002\n",
       "description                          Seizure disorder\n",
       "load_table_id                              conditions\n",
       "load_row_id                                         1\n",
       "Name: 0, dtype: object"
      ]
     },
     "execution_count": 28,
     "metadata": {},
     "output_type": "execute_result"
    }
   ],
   "source": [
    "def get_df(schema_name,table_name):\n",
    "    selection = r'''\n",
    "SELECT\n",
    "*\n",
    "FROM %s.%s\n",
    "'''%(schema_name,table_name)\n",
    "\n",
    "    return pd.read_sql(selection,ngin)\n",
    "\n",
    "df_conditions = get_df('synthea_raw','conditions')\n",
    "df_conditions.iloc[0]"
   ]
  },
  {
   "cell_type": "markdown",
   "metadata": {},
   "source": [
    "### Displaying a Dataframe\n",
    "\n",
    "By using `set_index()` we can organise the table a bit better to display the data for each patient. Using `drop()` we can remove the unnessary column `load_table_id` which is just `conditions` for all data entries."
   ]
  },
  {
   "cell_type": "code",
   "execution_count": 31,
   "metadata": {
    "scrolled": false
   },
   "outputs": [
    {
     "data": {
      "text/html": [
       "<div>\n",
       "<style scoped>\n",
       "    .dataframe tbody tr th:only-of-type {\n",
       "        vertical-align: middle;\n",
       "    }\n",
       "\n",
       "    .dataframe tbody tr th {\n",
       "        vertical-align: top;\n",
       "    }\n",
       "\n",
       "    .dataframe thead th {\n",
       "        text-align: right;\n",
       "    }\n",
       "</style>\n",
       "<table border=\"1\" class=\"dataframe\">\n",
       "  <thead>\n",
       "    <tr style=\"text-align: right;\">\n",
       "      <th></th>\n",
       "      <th></th>\n",
       "      <th></th>\n",
       "      <th>start</th>\n",
       "      <th>stop</th>\n",
       "      <th>description</th>\n",
       "      <th>load_row_id</th>\n",
       "    </tr>\n",
       "    <tr>\n",
       "      <th>patient</th>\n",
       "      <th>encounter</th>\n",
       "      <th>code</th>\n",
       "      <th></th>\n",
       "      <th></th>\n",
       "      <th></th>\n",
       "      <th></th>\n",
       "    </tr>\n",
       "  </thead>\n",
       "  <tbody>\n",
       "    <tr>\n",
       "      <th rowspan=\"4\" valign=\"top\">0e517b72-2d1f-47f5-be31-ebf777539755</th>\n",
       "      <th rowspan=\"2\" valign=\"top\">6d0fcf84-4411-478f-b4e4-fba643da0e61</th>\n",
       "      <th>128613002</th>\n",
       "      <td>2001-07-09</td>\n",
       "      <td>None</td>\n",
       "      <td>Seizure disorder</td>\n",
       "      <td>1</td>\n",
       "    </tr>\n",
       "    <tr>\n",
       "      <th>703151001</th>\n",
       "      <td>2001-07-09</td>\n",
       "      <td>None</td>\n",
       "      <td>History of single seizure (situation)</td>\n",
       "      <td>2</td>\n",
       "    </tr>\n",
       "    <tr>\n",
       "      <th>9156490c-ccef-40a0-bba7-a27b4691e333</th>\n",
       "      <th>84757009</th>\n",
       "      <td>2001-09-10</td>\n",
       "      <td>None</td>\n",
       "      <td>Epilepsy</td>\n",
       "      <td>3</td>\n",
       "    </tr>\n",
       "    <tr>\n",
       "      <th>e670e3f9-067f-43da-8444-c4d236b002ce</th>\n",
       "      <th>40055000</th>\n",
       "      <td>2006-04-02</td>\n",
       "      <td>None</td>\n",
       "      <td>Chronic sinusitis (disorder)</td>\n",
       "      <td>4</td>\n",
       "    </tr>\n",
       "    <tr>\n",
       "      <th>4773cd3e-f603-4ef7-8088-4c75bc9b5259</th>\n",
       "      <th>def28c54-0b05-4171-99b3-2da43460d7b3</th>\n",
       "      <th>162864005</th>\n",
       "      <td>1947-03-31</td>\n",
       "      <td>None</td>\n",
       "      <td>Body mass index 30+ - obesity (finding)</td>\n",
       "      <td>5</td>\n",
       "    </tr>\n",
       "    <tr>\n",
       "      <th>...</th>\n",
       "      <th>...</th>\n",
       "      <th>...</th>\n",
       "      <td>...</td>\n",
       "      <td>...</td>\n",
       "      <td>...</td>\n",
       "      <td>...</td>\n",
       "    </tr>\n",
       "    <tr>\n",
       "      <th rowspan=\"5\" valign=\"top\">51c0750a-e2db-4e4f-b8d3-9e9d572dfb41</th>\n",
       "      <th rowspan=\"5\" valign=\"top\">bc44e5e2-6ae0-4e17-9074-838f5c39c3ab</th>\n",
       "      <th>68962001</th>\n",
       "      <td>2020-02-28</td>\n",
       "      <td>2020-03-29</td>\n",
       "      <td>Muscle pain (finding)</td>\n",
       "      <td>15441</td>\n",
       "    </tr>\n",
       "    <tr>\n",
       "      <th>57676002</th>\n",
       "      <td>2020-02-28</td>\n",
       "      <td>2020-03-29</td>\n",
       "      <td>Joint pain (finding)</td>\n",
       "      <td>15442</td>\n",
       "    </tr>\n",
       "    <tr>\n",
       "      <th>36955009</th>\n",
       "      <td>2020-02-28</td>\n",
       "      <td>2020-03-29</td>\n",
       "      <td>Loss of taste (finding)</td>\n",
       "      <td>15443</td>\n",
       "    </tr>\n",
       "    <tr>\n",
       "      <th>840544004</th>\n",
       "      <td>2020-02-28</td>\n",
       "      <td>2020-02-28</td>\n",
       "      <td>Suspected COVID-19</td>\n",
       "      <td>15444</td>\n",
       "    </tr>\n",
       "    <tr>\n",
       "      <th>840539006</th>\n",
       "      <td>2020-02-28</td>\n",
       "      <td>2020-03-29</td>\n",
       "      <td>COVID-19</td>\n",
       "      <td>15445</td>\n",
       "    </tr>\n",
       "  </tbody>\n",
       "</table>\n",
       "<p>15445 rows × 4 columns</p>\n",
       "</div>"
      ],
      "text/plain": [
       "                                                                                          start  \\\n",
       "patient                              encounter                            code                    \n",
       "0e517b72-2d1f-47f5-be31-ebf777539755 6d0fcf84-4411-478f-b4e4-fba643da0e61 128613002  2001-07-09   \n",
       "                                                                          703151001  2001-07-09   \n",
       "                                     9156490c-ccef-40a0-bba7-a27b4691e333 84757009   2001-09-10   \n",
       "                                     e670e3f9-067f-43da-8444-c4d236b002ce 40055000   2006-04-02   \n",
       "4773cd3e-f603-4ef7-8088-4c75bc9b5259 def28c54-0b05-4171-99b3-2da43460d7b3 162864005  1947-03-31   \n",
       "...                                                                                         ...   \n",
       "51c0750a-e2db-4e4f-b8d3-9e9d572dfb41 bc44e5e2-6ae0-4e17-9074-838f5c39c3ab 68962001   2020-02-28   \n",
       "                                                                          57676002   2020-02-28   \n",
       "                                                                          36955009   2020-02-28   \n",
       "                                                                          840544004  2020-02-28   \n",
       "                                                                          840539006  2020-02-28   \n",
       "\n",
       "                                                                                           stop  \\\n",
       "patient                              encounter                            code                    \n",
       "0e517b72-2d1f-47f5-be31-ebf777539755 6d0fcf84-4411-478f-b4e4-fba643da0e61 128613002        None   \n",
       "                                                                          703151001        None   \n",
       "                                     9156490c-ccef-40a0-bba7-a27b4691e333 84757009         None   \n",
       "                                     e670e3f9-067f-43da-8444-c4d236b002ce 40055000         None   \n",
       "4773cd3e-f603-4ef7-8088-4c75bc9b5259 def28c54-0b05-4171-99b3-2da43460d7b3 162864005        None   \n",
       "...                                                                                         ...   \n",
       "51c0750a-e2db-4e4f-b8d3-9e9d572dfb41 bc44e5e2-6ae0-4e17-9074-838f5c39c3ab 68962001   2020-03-29   \n",
       "                                                                          57676002   2020-03-29   \n",
       "                                                                          36955009   2020-03-29   \n",
       "                                                                          840544004  2020-02-28   \n",
       "                                                                          840539006  2020-03-29   \n",
       "\n",
       "                                                                                                                 description  \\\n",
       "patient                              encounter                            code                                                 \n",
       "0e517b72-2d1f-47f5-be31-ebf777539755 6d0fcf84-4411-478f-b4e4-fba643da0e61 128613002                         Seizure disorder   \n",
       "                                                                          703151001    History of single seizure (situation)   \n",
       "                                     9156490c-ccef-40a0-bba7-a27b4691e333 84757009                                  Epilepsy   \n",
       "                                     e670e3f9-067f-43da-8444-c4d236b002ce 40055000              Chronic sinusitis (disorder)   \n",
       "4773cd3e-f603-4ef7-8088-4c75bc9b5259 def28c54-0b05-4171-99b3-2da43460d7b3 162864005  Body mass index 30+ - obesity (finding)   \n",
       "...                                                                                                                      ...   \n",
       "51c0750a-e2db-4e4f-b8d3-9e9d572dfb41 bc44e5e2-6ae0-4e17-9074-838f5c39c3ab 68962001                     Muscle pain (finding)   \n",
       "                                                                          57676002                      Joint pain (finding)   \n",
       "                                                                          36955009                   Loss of taste (finding)   \n",
       "                                                                          840544004                       Suspected COVID-19   \n",
       "                                                                          840539006                                 COVID-19   \n",
       "\n",
       "                                                                                     load_row_id  \n",
       "patient                              encounter                            code                    \n",
       "0e517b72-2d1f-47f5-be31-ebf777539755 6d0fcf84-4411-478f-b4e4-fba643da0e61 128613002            1  \n",
       "                                                                          703151001            2  \n",
       "                                     9156490c-ccef-40a0-bba7-a27b4691e333 84757009             3  \n",
       "                                     e670e3f9-067f-43da-8444-c4d236b002ce 40055000             4  \n",
       "4773cd3e-f603-4ef7-8088-4c75bc9b5259 def28c54-0b05-4171-99b3-2da43460d7b3 162864005            5  \n",
       "...                                                                                          ...  \n",
       "51c0750a-e2db-4e4f-b8d3-9e9d572dfb41 bc44e5e2-6ae0-4e17-9074-838f5c39c3ab 68962001         15441  \n",
       "                                                                          57676002         15442  \n",
       "                                                                          36955009         15443  \n",
       "                                                                          840544004        15444  \n",
       "                                                                          840539006        15445  \n",
       "\n",
       "[15445 rows x 4 columns]"
      ]
     },
     "execution_count": 31,
     "metadata": {},
     "output_type": "execute_result"
    }
   ],
   "source": [
    "df_conditions = df_conditions.set_index(['patient','encounter','code']).drop('load_table_id',axis=1)\n",
    "df_conditions"
   ]
  },
  {
   "cell_type": "markdown",
   "metadata": {},
   "source": [
    "### Inspecting a Series\n",
    "\n",
    "We can look at the column (or series) for `description` and count the number of unique values (number of times this was a registered condition). Using `head(10)` we can display the top 10 ranked conditions that appear."
   ]
  },
  {
   "cell_type": "code",
   "execution_count": 107,
   "metadata": {},
   "outputs": [
    {
     "data": {
      "text/plain": [
       "Viral sinusitis (disorder)                 1284\n",
       "Suspected COVID-19                          911\n",
       "COVID-19                                    881\n",
       "Fever (finding)                             804\n",
       "Acute viral pharyngitis (disorder)          709\n",
       "Cough (finding)                             622\n",
       "Acute bronchitis (disorder)                 580\n",
       "Normal pregnancy                            516\n",
       "Body mass index 30+ - obesity (finding)     489\n",
       "Loss of taste (finding)                     440\n",
       "Name: description, dtype: int64"
      ]
     },
     "execution_count": 107,
     "metadata": {},
     "output_type": "execute_result"
    }
   ],
   "source": [
    "df_conditions['description'].value_counts().head(10)"
   ]
  },
  {
   "cell_type": "markdown",
   "metadata": {},
   "source": [
    "### Filtering a DataFrame\n",
    "\n",
    "Next, we use filter the dataframe into just two columns: the start (date) and description of the condition.  \n",
    "We also call two additional functions:\n",
    "1. `pd.to_datetime()` helps by converting the date from a string into an datetime object\n",
    "2. `sort_values()` helps by ordering the column based on the date"
   ]
  },
  {
   "cell_type": "code",
   "execution_count": null,
   "metadata": {},
   "outputs": [],
   "source": [
    "df_small = df_conditions.reset_index()[['start','description']]\n",
    "df_small['start'] = pd.to_datetime(df_small['start'])\n",
    "df_small = df_small.sort_values('start')\n",
    "df_small"
   ]
  },
  {
   "cell_type": "markdown",
   "metadata": {},
   "source": [
    "We are able to filter the to an even smaller dataframe by requiring the date of `start` to be from 2019 onwards"
   ]
  },
  {
   "cell_type": "code",
   "execution_count": 112,
   "metadata": {},
   "outputs": [
    {
     "data": {
      "text/html": [
       "<div>\n",
       "<style scoped>\n",
       "    .dataframe tbody tr th:only-of-type {\n",
       "        vertical-align: middle;\n",
       "    }\n",
       "\n",
       "    .dataframe tbody tr th {\n",
       "        vertical-align: top;\n",
       "    }\n",
       "\n",
       "    .dataframe thead th {\n",
       "        text-align: right;\n",
       "    }\n",
       "</style>\n",
       "<table border=\"1\" class=\"dataframe\">\n",
       "  <thead>\n",
       "    <tr style=\"text-align: right;\">\n",
       "      <th></th>\n",
       "      <th>start</th>\n",
       "      <th>description</th>\n",
       "    </tr>\n",
       "  </thead>\n",
       "  <tbody>\n",
       "    <tr>\n",
       "      <th>13354</th>\n",
       "      <td>2019-01-02</td>\n",
       "      <td>Fracture of ankle</td>\n",
       "    </tr>\n",
       "    <tr>\n",
       "      <th>2039</th>\n",
       "      <td>2019-01-03</td>\n",
       "      <td>Acute bronchitis (disorder)</td>\n",
       "    </tr>\n",
       "    <tr>\n",
       "      <th>5072</th>\n",
       "      <td>2019-01-03</td>\n",
       "      <td>Viral sinusitis (disorder)</td>\n",
       "    </tr>\n",
       "    <tr>\n",
       "      <th>11537</th>\n",
       "      <td>2019-01-04</td>\n",
       "      <td>Acute bronchitis (disorder)</td>\n",
       "    </tr>\n",
       "    <tr>\n",
       "      <th>1929</th>\n",
       "      <td>2019-01-04</td>\n",
       "      <td>Cardiac Arrest</td>\n",
       "    </tr>\n",
       "    <tr>\n",
       "      <th>...</th>\n",
       "      <td>...</td>\n",
       "      <td>...</td>\n",
       "    </tr>\n",
       "    <tr>\n",
       "      <th>7351</th>\n",
       "      <td>2020-06-11</td>\n",
       "      <td>Viral sinusitis (disorder)</td>\n",
       "    </tr>\n",
       "    <tr>\n",
       "      <th>5037</th>\n",
       "      <td>2020-06-11</td>\n",
       "      <td>Neuropathy due to type 2 diabetes mellitus (di...</td>\n",
       "    </tr>\n",
       "    <tr>\n",
       "      <th>195</th>\n",
       "      <td>2020-06-14</td>\n",
       "      <td>Normal pregnancy</td>\n",
       "    </tr>\n",
       "    <tr>\n",
       "      <th>14300</th>\n",
       "      <td>2020-06-14</td>\n",
       "      <td>Sprain of ankle</td>\n",
       "    </tr>\n",
       "    <tr>\n",
       "      <th>4220</th>\n",
       "      <td>2020-06-16</td>\n",
       "      <td>Viral sinusitis (disorder)</td>\n",
       "    </tr>\n",
       "  </tbody>\n",
       "</table>\n",
       "<p>7253 rows × 2 columns</p>\n",
       "</div>"
      ],
      "text/plain": [
       "           start                                        description\n",
       "13354 2019-01-02                                  Fracture of ankle\n",
       "2039  2019-01-03                        Acute bronchitis (disorder)\n",
       "5072  2019-01-03                         Viral sinusitis (disorder)\n",
       "11537 2019-01-04                        Acute bronchitis (disorder)\n",
       "1929  2019-01-04                                     Cardiac Arrest\n",
       "...          ...                                                ...\n",
       "7351  2020-06-11                         Viral sinusitis (disorder)\n",
       "5037  2020-06-11  Neuropathy due to type 2 diabetes mellitus (di...\n",
       "195   2020-06-14                                   Normal pregnancy\n",
       "14300 2020-06-14                                    Sprain of ankle\n",
       "4220  2020-06-16                         Viral sinusitis (disorder)\n",
       "\n",
       "[7253 rows x 2 columns]"
      ]
     },
     "execution_count": 112,
     "metadata": {},
     "output_type": "execute_result"
    }
   ],
   "source": [
    "df_small_from_2019 = df_small[df_small['start'] > '2019']\n",
    "df_small_from_2019"
   ]
  },
  {
   "cell_type": "markdown",
   "metadata": {},
   "source": [
    "We make a series of new dataframes by filtering based on the description"
   ]
  },
  {
   "cell_type": "code",
   "execution_count": 115,
   "metadata": {},
   "outputs": [
    {
     "data": {
      "text/plain": [
       "(180, 66)"
      ]
     },
     "execution_count": 115,
     "metadata": {},
     "output_type": "execute_result"
    }
   ],
   "source": [
    "df_viral = df_small_from_2019[df_small_from_2019['description'].str.contains('Viral')]\n",
    "df_pregnancy = df_small_from_2019[df_small_from_2019['description'].str.contains('pregnancy')]\n",
    "len(df_viral),len(df_pregnancy)"
   ]
  },
  {
   "cell_type": "markdown",
   "metadata": {},
   "source": [
    "Further splitting up a dataframe for COVID-19 cases into confirmed and suspected cases"
   ]
  },
  {
   "cell_type": "code",
   "execution_count": 116,
   "metadata": {},
   "outputs": [
    {
     "data": {
      "text/plain": [
       "(1792, 911, 881)"
      ]
     },
     "execution_count": 116,
     "metadata": {},
     "output_type": "execute_result"
    }
   ],
   "source": [
    "df_covid = df_small_from_2019[df_small_from_2019['description'].str.contains('covid',case=False)]\n",
    "\n",
    "df_suspected_covid = df_covid[df_covid['description'].str.contains('Suspected')]\n",
    "df_confirmed_covid = df_covid[df_covid['description'].str.contains('Suspected') == 0 ]\n",
    "\n",
    "len(df_covid),len(df_suspected_covid),len(df_confirmed_covid)"
   ]
  },
  {
   "cell_type": "markdown",
   "metadata": {},
   "source": [
    "### Plotting Data\n",
    "\n",
    "We can now use `matplotlib` to make histograms showing the number of cases of various filtered conditions as a function of the start date."
   ]
  },
  {
   "cell_type": "code",
   "execution_count": 113,
   "metadata": {},
   "outputs": [
    {
     "data": {
      "image/png": "[encoded data removed]",
      "text/plain": [
       "<Figure size 1008x360 with 1 Axes>"
      ]
     },
     "metadata": {
      "needs_background": "light"
     },
     "output_type": "display_data"
    }
   ],
   "source": [
    "fig,ax = plt.subplots(1,figsize=(14,5))\n",
    "\n",
    "_,bins,_ = ax.hist(df_viral['start'],bins=40,label='Viral',\n",
    "                   lw=4,histtype='step')\n",
    "ax.hist(df_pregnancy['start'],bins=bins,label='Normal Pregnancy',\n",
    "        lw=4,histtype='step')\n",
    "ax.hist(df_confirmed_covid['start'],bins=bins,label='Confirmed COVID-19',\n",
    "        lw=4,histtype='step')\n",
    "ax.hist(df_suspected_covid['start'],bins=bins,label='Suspected COVID-19',\n",
    "        lw=4,histtype='step')\n",
    "\n",
    "ax.set_yscale('log')\n",
    "ax.set_ylabel('Number of cases encountered')\n",
    "ax.set_xlabel('date')\n",
    "plt.legend(loc='upper left')\n",
    "plt.show();"
   ]
  }
 ],
 "metadata": {
  "kernelspec": {
   "display_name": "Python 3",
   "language": "python",
   "name": "python3"
  },
  "language_info": {
   "codemirror_mode": {
    "name": "ipython",
    "version": 3
   },
   "file_extension": ".py",
   "mimetype": "text/x-python",
   "name": "python",
   "nbconvert_exporter": "python",
   "pygments_lexer": "ipython3",
   "version": "3.8.0"
  }
 },
 "nbformat": 4,
 "nbformat_minor": 4
}
