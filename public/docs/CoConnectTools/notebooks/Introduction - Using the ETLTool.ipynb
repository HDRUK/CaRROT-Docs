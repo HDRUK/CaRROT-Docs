{
 "cells": [
  {
   "cell_type": "markdown",
   "metadata": {},
   "source": [
    "[![Binder](https://mybinder.org/badge_logo.svg)](https://mybinder.org/v2/gh/CO-CONNECT/co-connect-tools/HEAD)\n",
    "\n",
    "\n",
    "## Introduction\n",
    "\n",
    "If you'd prefer to run the ETL transform to CDM as a python notebook and/or interactively, you can follow the following workbook example, changing the rules file and the input files.\n",
    "\n",
    "\n",
    "## Installing\n",
    "\n",
    "The best way is to install the module via `pip`. "
   ]
  },
  {
   "cell_type": "code",
   "execution_count": null,
   "metadata": {},
   "outputs": [],
   "source": [
    "!pip3 install co-connect-tools -q"
   ]
  },
  {
   "cell_type": "markdown",
   "metadata": {},
   "source": [
    "## Loading the Rules\n",
    "\n",
    "Given the full path to a `json` file containing the rules, the first step is to load this up into a `json` object/dict."
   ]
  },
  {
   "cell_type": "code",
   "execution_count": 10,
   "metadata": {
    "scrolled": true
   },
   "outputs": [
    {
     "name": "stdout",
     "output_type": "stream",
     "text": [
      "{\n",
      "  \"metadata\": {\n",
      "    \"date_created\": \"2021-06-14T15:27:37.123947\",\n",
      "    \"dataset\": \"Test\"\n",
      "  },\n",
      "  \"cdm\": {\n",
      "    \"observation\": [\n",
      "      {\n",
      "        \"observation_concept_id\": {\n",
      "          \"source_table\": \"Demographics.csv\",\n",
      "          \"source_field\": \"ethnicity\",\n",
      "          \"term_mapping\": {\n",
      "            \"Asian\": 35825508\n",
      "          }\n",
      "        },\n",
      "        \"observation_datetime\": {\n",
      "          \"source_table\": \"Demographics.csv\",\n",
      "          \"source_field\": \"date_of_birth\"\n",
      "        },\n",
      "        \"observation_source_co\n"
     ]
    }
   ],
   "source": [
    "import coconnect.tools\n",
    "import json\n",
    "import os\n",
    "\n",
    "coconnect_data_folder = os.path.join(os.path.dirname(coconnect.__file__),'data')\n",
    "\n",
    "rules = coconnect.tools.load_json(f'{coconnect_data_folder}/test/rules/rules_14June2021.json')\n",
    "print(json.dumps(rules, indent=2)[0:500])"
   ]
  },
  {
   "cell_type": "markdown",
   "metadata": {},
   "source": [
    "## Loading the input data\n",
    "\n",
    "A convienience function is available to create a map between a file name and a file path for all files in a directory:"
   ]
  },
  {
   "cell_type": "code",
   "execution_count": 13,
   "metadata": {
    "scrolled": true
   },
   "outputs": [
    {
     "name": "stdout",
     "output_type": "stream",
     "text": [
      "{\n",
      "      \"Symptoms.csv\": \"/Users/calummacdonald/Usher/CO-CONNECT/Software/docs/public/docs/CoConnectTools/source_code/coconnect/data/test/inputs/Symptoms.csv\",\n",
      "      \"Covid19_test.csv\": \"/Users/calummacdonald/Usher/CO-CONNECT/Software/docs/public/docs/CoConnectTools/source_code/coconnect/data/test/inputs/Covid19_test.csv\",\n",
      "      \"covid19_antibody.csv\": \"/Users/calummacdonald/Usher/CO-CONNECT/Software/docs/public/docs/CoConnectTools/source_code/coconnect/data/test/inputs/covid19_antibody.csv\",\n",
      "      \"vaccine.csv\": \"/Users/calummacdonald/Usher/CO-CONNECT/Software/docs/public/docs/CoConnectTools/source_code/coconnect/data/test/inputs/vaccine.csv\",\n",
      "      \"Demographics.csv\": \"/Users/calummacdonald/Usher/CO-CONNECT/Software/docs/public/docs/CoConnectTools/source_code/coconnect/data/test/inputs/Demographics.csv\"\n",
      "}\n"
     ]
    }
   ],
   "source": [
    "f_map = coconnect.tools.get_file_map_from_dir(f'{coconnect_data_folder}/test/inputs/')\n",
    "print (json.dumps(f_map,indent=6))"
   ]
  },
  {
   "cell_type": "markdown",
   "metadata": {},
   "source": [
    "use the `f_map` to load all the inputs into a map between the file name and a dataframe object. This can be created manually via any prefered method."
   ]
  },
  {
   "cell_type": "code",
   "execution_count": 16,
   "metadata": {
    "scrolled": false
   },
   "outputs": [
    {
     "data": {
      "text/plain": [
       "{'Symptoms.csv':   PersonID  visit_date symptom1 symptom2 symptom3\n",
       " 0      101  2020-11-15        Y        Y        Y\n",
       " 1      102  2020-01-04        Y        Y        Y\n",
       " 2      103  2020-03-27        Y        Y        Y\n",
       " 3      104  2020-06-24        N        N        N\n",
       " 4      105  2020-07-27        Y        Y        Y\n",
       " 5      108  2020-11-04        N        Y        N\n",
       " 6      109  2020-12-24        N        N        N\n",
       " 7      110  2020-02-04        N        N        N,\n",
       " 'Covid19_test.csv':   PersonID        date         result\n",
       " 0      101  2020-11-15       POSITIVE\n",
       " 1      102  2020-01-04       NEGATIVE\n",
       " 2      103  2020-03-27            POS\n",
       " 3      104  2020-06-24            NEG\n",
       " 4      105  2020-07-27       POSITIVE\n",
       " 5      108  2020-11-04       NEGATIVE\n",
       " 6      109  2020-12-24  INDETERMINATE\n",
       " 7      110  2020-02-04       NEGATIVE,\n",
       " 'covid19_antibody.csv':   PersonID        date ABresult\n",
       " 0      101  2020-11-29        1\n",
       " 1      102  2020-04-15        1\n",
       " 2      103  2020-10-04        1\n",
       " 3      104  2020-08-07        0\n",
       " 4      105  2020-10-08        1\n",
       " 5      106  2020-02-15        0\n",
       " 6      107  2021-03-01        0\n",
       " 7      108  2020-04-25        0\n",
       " 8      109  2021-07-01        1\n",
       " 9      110  2020-04-16        0,\n",
       " 'vaccine.csv':   PersonID   vacc_date Dose vaccine_name\n",
       " 0      101  2021-02-17    1       PFIZER\n",
       " 1      101  2021-01-04    2       PFIZER\n",
       " 2      104  2021-04-04    1  ASTRAZENECA\n",
       " 3      109  2021-03-02    1  ASTRAZENECA\n",
       " 4      109  2021-05-03    2  ASTRAZENECA,\n",
       " 'Demographics.csv':   PersonID sex date_of_birth        ethnicity\n",
       " 0      101   M    1951-12-25            White\n",
       " 1      102   M    1981-11-19            Black\n",
       " 2      103   F    1997-05-11           Indian\n",
       " 3      104   F    1975-06-07      Bangladeshi\n",
       " 4      105   F    1976-04-23            White\n",
       " 5      106   M    1966-09-29            Black\n",
       " 6      107   F    1956-11-12            Asian\n",
       " 7      108   M    1985-03-01  White and Asian\n",
       " 8      109   F    1950-10-31              NaN\n",
       " 9      110   F    1993-09-07            White}"
      ]
     },
     "execution_count": 16,
     "metadata": {},
     "output_type": "execute_result"
    }
   ],
   "source": [
    "inputs = coconnect.tools.load_csv(f_map)\n",
    "inputs"
   ]
  },
  {
   "cell_type": "markdown",
   "metadata": {},
   "source": [
    "## Creating a CDM \n",
    "\n",
    "As CO-CONNECT-Tools contains a pythonic version of the CDM, we can create an instannce of the `CommonDataModel` class."
   ]
  },
  {
   "cell_type": "code",
   "execution_count": 17,
   "metadata": {},
   "outputs": [
    {
     "name": "stderr",
     "output_type": "stream",
     "text": [
      "\u001b[32m2021-07-28 10:35:57\u001b[0m - \u001b[34mCommonDataModel\u001b[0m - \u001b[1;37mINFO\u001b[0m - CommonDataModel created\n"
     ]
    },
    {
     "data": {
      "text/plain": [
       "<coconnect.cdm.model.CommonDataModel at 0x1188c44f0>"
      ]
     },
     "execution_count": 17,
     "metadata": {},
     "output_type": "execute_result"
    }
   ],
   "source": [
    "from coconnect.cdm import CommonDataModel\n",
    "\n",
    "cdm = CommonDataModel(name=rules['metadata']['dataset'],\n",
    "                      inputs=inputs,\n",
    "                      output_folder='output_dir/')\n",
    "cdm"
   ]
  },
  {
   "cell_type": "markdown",
   "metadata": {},
   "source": [
    "## Adding CDM Objects to the CDM\n",
    "\n",
    "The next step is to loop over all the rules from the `json`, creating and adding a new CDM object (e.g. Person) to the CDM.\n",
    "\n",
    "Within the loop the CDM object define function is set a lambda function to the apply rules. This means that during the executing, in runtime, the tool (via the `CommonDataModel` class, will execute the define function and know how to apply the mapping rules."
   ]
  },
  {
   "cell_type": "code",
   "execution_count": 18,
   "metadata": {},
   "outputs": [
    {
     "name": "stderr",
     "output_type": "stream",
     "text": [
      "\u001b[32m2021-07-28 10:38:05\u001b[0m - \u001b[34mCommonDataModel\u001b[0m - \u001b[1;37mINFO\u001b[0m - Added observation_0 of type observation\n",
      "\u001b[32m2021-07-28 10:38:05\u001b[0m - \u001b[34mCommonDataModel\u001b[0m - \u001b[1;37mINFO\u001b[0m - Added observation_1 of type observation\n",
      "\u001b[32m2021-07-28 10:38:05\u001b[0m - \u001b[34mCommonDataModel\u001b[0m - \u001b[1;37mINFO\u001b[0m - Added observation_2 of type observation\n",
      "\u001b[32m2021-07-28 10:38:05\u001b[0m - \u001b[34mCommonDataModel\u001b[0m - \u001b[1;37mINFO\u001b[0m - Added observation_3 of type observation\n",
      "\u001b[32m2021-07-28 10:38:05\u001b[0m - \u001b[34mCommonDataModel\u001b[0m - \u001b[1;37mINFO\u001b[0m - Added observation_4 of type observation\n",
      "\u001b[32m2021-07-28 10:38:05\u001b[0m - \u001b[34mCommonDataModel\u001b[0m - \u001b[1;37mINFO\u001b[0m - Added observation_5 of type observation\n",
      "\u001b[32m2021-07-28 10:38:05\u001b[0m - \u001b[34mCommonDataModel\u001b[0m - \u001b[1;37mINFO\u001b[0m - Added condition_occurrence_0 of type condition_occurrence\n",
      "\u001b[32m2021-07-28 10:38:05\u001b[0m - \u001b[34mCommonDataModel\u001b[0m - \u001b[1;37mINFO\u001b[0m - Added person_0 of type person\n",
      "\u001b[32m2021-07-28 10:38:05\u001b[0m - \u001b[34mCommonDataModel\u001b[0m - \u001b[1;37mINFO\u001b[0m - Added person_1 of type person\n"
     ]
    }
   ],
   "source": [
    "from coconnect.cdm import get_cdm_class\n",
    "from coconnect.tools import apply_rules\n",
    "\n",
    "for destination_table,rules_set in rules['cdm'].items():\n",
    "    for i,rules in enumerate(rules_set):\n",
    "        obj = get_cdm_class(destination_table)()\n",
    "        obj.set_name(f\"{destination_table}_{i}\")\n",
    "        obj.rules = rules\n",
    "        obj.define = lambda x : apply_rules(x)\n",
    "        cdm.add(obj)"
   ]
  },
  {
   "cell_type": "markdown",
   "metadata": {},
   "source": [
    "After the initialisation and creation of the CDM objects, we can see what objects we have been registered in the model.."
   ]
  },
  {
   "cell_type": "code",
   "execution_count": 20,
   "metadata": {},
   "outputs": [
    {
     "data": {
      "text/plain": [
       "{'observation': {'observation_0': <coconnect.cdm.objects.observation.Observation at 0x11887b490>,\n",
       "  'observation_1': <coconnect.cdm.objects.observation.Observation at 0x11873fbb0>,\n",
       "  'observation_2': <coconnect.cdm.objects.observation.Observation at 0x11879df40>,\n",
       "  'observation_3': <coconnect.cdm.objects.observation.Observation at 0x11879dd00>,\n",
       "  'observation_4': <coconnect.cdm.objects.observation.Observation at 0x11879d850>,\n",
       "  'observation_5': <coconnect.cdm.objects.observation.Observation at 0x1188d5e20>},\n",
       " 'condition_occurrence': {'condition_occurrence_0': <coconnect.cdm.objects.condition_occurrence.ConditionOccurrence at 0x1188d5c70>},\n",
       " 'person': {'person_0': <coconnect.cdm.objects.person.Person at 0x1188dc430>,\n",
       "  'person_1': <coconnect.cdm.objects.person.Person at 0x11879d940>}}"
      ]
     },
     "execution_count": 20,
     "metadata": {},
     "output_type": "execute_result"
    }
   ],
   "source": [
    "cdm.objects()"
   ]
  },
  {
   "cell_type": "markdown",
   "metadata": {},
   "source": [
    "## Process The CDM\n",
    "\n",
    "Processing the CDM will execute all objects, pandas dataframes will be created for each object, based on the rules that have been provided.\n",
    "\n",
    "Importantly the CDM will also format, finalise and merge all the individual dataframes for each objects. \n",
    "\n",
    "* Formatting makes sure the columns are in the correct format i.e. a date is YYY-MM-DD\n",
    "* Finalise makes sure \n"
   ]
  },
  {
   "cell_type": "code",
   "execution_count": null,
   "metadata": {},
   "outputs": [],
   "source": [
    "cdm.process()"
   ]
  },
  {
   "cell_type": "markdown",
   "metadata": {},
   "source": [
    "## Inspect Outputs"
   ]
  },
  {
   "cell_type": "code",
   "execution_count": null,
   "metadata": {},
   "outputs": [],
   "source": [
    "cdm.keys()"
   ]
  },
  {
   "cell_type": "code",
   "execution_count": null,
   "metadata": {
    "scrolled": false
   },
   "outputs": [],
   "source": [
    "cdm['person'].dropna(axis=1,how='all')"
   ]
  },
  {
   "cell_type": "code",
   "execution_count": null,
   "metadata": {},
   "outputs": [],
   "source": [
    "cdm['observation'].dropna(axis=1,how='all')"
   ]
  },
  {
   "cell_type": "code",
   "execution_count": null,
   "metadata": {},
   "outputs": [],
   "source": [
    "cdm['condition_occurrence'].dropna(axis=1,how='all')"
   ]
  }
 ],
 "metadata": {
  "kernelspec": {
   "display_name": "Python 3",
   "language": "python",
   "name": "python3"
  },
  "language_info": {
   "codemirror_mode": {
    "name": "ipython",
    "version": 3
   },
   "file_extension": ".py",
   "mimetype": "text/x-python",
   "name": "python",
   "nbconvert_exporter": "python",
   "pygments_lexer": "ipython3",
   "version": "3.8.0"
  }
 },
 "nbformat": 4,
 "nbformat_minor": 4
}
